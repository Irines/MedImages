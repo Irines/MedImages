{
 "cells": [
  {
   "cell_type": "markdown",
   "metadata": {},
   "source": [
    "<h2>Комп'ютерний практикум з обробки біомедичних даних</h2>\n",
    "<h3>за темою: парний t-критерій Стьюдента </h3>\n",
    "<h3>студентки групи БС-81</h3>\n",
    "<h3>Кисельової Ірини</h3>"
   ]
  },
  {
   "cell_type": "markdown",
   "metadata": {},
   "source": [
    "# Завдання\n",
    "\n",
    "1. Обрати реальні дані з kaggle або сгенерувати випадкові дані. Дані мають відповідати вимогам викладеним вище. Формат даних:\n",
    "\n",
    "| Група 1 | Група 2  | \n",
    "| ------------- |--------- |\n",
    "| $k_{1}  $   | $k_{2}$   |\n",
    "| $...$   | $...$   |\n",
    "| $k_{1n}$   | $k_{2n}$   |\n",
    "\n",
    "2. Побудувати графік, що відображає розкид даних в групах. Приклад:\n",
    "![alt text](https://s3.amazonaws.com/libapps/accounts/2515/images/spss_paired-t_example_boxplot.PNG)\n",
    "\n",
    "3. Написати функції:\n",
    "* для оцінки зв'язку між групами за коефіцієнтом кореляції Пірсона. Функція має повертати значення коефіцієнту кореляції, значення ступеня свободи та результат оцінки значимості зв'зку (significant або not significant).\n",
    "\n",
    "* для визначення відмінності між групами за критерієм Стьюдента. Функція має повертати значення критерію Стьюдента,значення ступеня свободи та результат оцінки значимості зв'зку (significant або not significant). \n",
    "\n",
    "4. Перевірити розбіжність на між групами на даних з п. 1. \n",
    "\n",
    "5. Сформувати висновок про взаємозв'язок між групами та про їх розбіжність. "
   ]
  },
  {
   "cell_type": "code",
   "execution_count": 1,
   "metadata": {},
   "outputs": [],
   "source": [
    "import numpy as np\n",
    "import pandas as pd\n",
    "import seaborn as sns\n",
    "from random import randint"
   ]
  },
  {
   "cell_type": "code",
   "execution_count": 27,
   "metadata": {},
   "outputs": [
    {
     "data": {
      "text/html": [
       "<div>\n",
       "<style scoped>\n",
       "    .dataframe tbody tr th:only-of-type {\n",
       "        vertical-align: middle;\n",
       "    }\n",
       "\n",
       "    .dataframe tbody tr th {\n",
       "        vertical-align: top;\n",
       "    }\n",
       "\n",
       "    .dataframe thead th {\n",
       "        text-align: right;\n",
       "    }\n",
       "</style>\n",
       "<table border=\"1\" class=\"dataframe\">\n",
       "  <thead>\n",
       "    <tr style=\"text-align: right;\">\n",
       "      <th></th>\n",
       "      <th>First test</th>\n",
       "      <th>Second test</th>\n",
       "    </tr>\n",
       "  </thead>\n",
       "  <tbody>\n",
       "    <tr>\n",
       "      <td>0</td>\n",
       "      <td>20.017205</td>\n",
       "      <td>21.017205</td>\n",
       "    </tr>\n",
       "    <tr>\n",
       "      <td>1</td>\n",
       "      <td>15.149844</td>\n",
       "      <td>18.149844</td>\n",
       "    </tr>\n",
       "    <tr>\n",
       "      <td>2</td>\n",
       "      <td>12.804592</td>\n",
       "      <td>15.804592</td>\n",
       "    </tr>\n",
       "    <tr>\n",
       "      <td>3</td>\n",
       "      <td>15.127119</td>\n",
       "      <td>18.127119</td>\n",
       "    </tr>\n",
       "    <tr>\n",
       "      <td>4</td>\n",
       "      <td>13.090213</td>\n",
       "      <td>16.090213</td>\n",
       "    </tr>\n",
       "    <tr>\n",
       "      <td>...</td>\n",
       "      <td>...</td>\n",
       "      <td>...</td>\n",
       "    </tr>\n",
       "    <tr>\n",
       "      <td>95</td>\n",
       "      <td>13.758899</td>\n",
       "      <td>15.758899</td>\n",
       "    </tr>\n",
       "    <tr>\n",
       "      <td>96</td>\n",
       "      <td>13.830546</td>\n",
       "      <td>15.830546</td>\n",
       "    </tr>\n",
       "    <tr>\n",
       "      <td>97</td>\n",
       "      <td>15.547786</td>\n",
       "      <td>18.547786</td>\n",
       "    </tr>\n",
       "    <tr>\n",
       "      <td>98</td>\n",
       "      <td>14.819677</td>\n",
       "      <td>15.819677</td>\n",
       "    </tr>\n",
       "    <tr>\n",
       "      <td>99</td>\n",
       "      <td>18.250014</td>\n",
       "      <td>19.250014</td>\n",
       "    </tr>\n",
       "  </tbody>\n",
       "</table>\n",
       "<p>100 rows × 2 columns</p>\n",
       "</div>"
      ],
      "text/plain": [
       "    First test  Second test\n",
       "0    20.017205    21.017205\n",
       "1    15.149844    18.149844\n",
       "2    12.804592    15.804592\n",
       "3    15.127119    18.127119\n",
       "4    13.090213    16.090213\n",
       "..         ...          ...\n",
       "95   13.758899    15.758899\n",
       "96   13.830546    15.830546\n",
       "97   15.547786    18.547786\n",
       "98   14.819677    15.819677\n",
       "99   18.250014    19.250014\n",
       "\n",
       "[100 rows x 2 columns]"
      ]
     },
     "execution_count": 27,
     "metadata": {},
     "output_type": "execute_result"
    }
   ],
   "source": [
    "#random little change of data after the test\n",
    "def change(data):\n",
    "    median = int(np.median(data))\n",
    "    return [(x + randint(1,3)) for x in data]\n",
    "\n",
    "first = np.random.normal(loc=15, scale=2, size=100)\n",
    "df = pd.DataFrame({\n",
    "    'First test': first,\n",
    "    'Second test' : change(first)\n",
    "    })\n",
    "df"
   ]
  },
  {
   "cell_type": "markdown",
   "metadata": {},
   "source": [
    "Побудувати графік, що відображає розкид даних в групах. "
   ]
  },
  {
   "cell_type": "code",
   "execution_count": 7,
   "metadata": {},
   "outputs": [
    {
     "data": {
      "text/plain": [
       "<matplotlib.axes._subplots.AxesSubplot at 0x750c08c388>"
      ]
     },
     "execution_count": 7,
     "metadata": {},
     "output_type": "execute_result"
    },
    {
     "data": {
      "image/png": "[encoded data removed]",
      "text/plain": [
       "<Figure size 432x288 with 1 Axes>"
      ]
     },
     "metadata": {
      "needs_background": "light"
     },
     "output_type": "display_data"
    }
   ],
   "source": [
    "sns.boxplot(data=df)"
   ]
  },
  {
   "cell_type": "markdown",
   "metadata": {},
   "source": [
    "Написати функції:\n",
    "\n",
    "для оцінки зв'язку між групами за коефіцієнтом кореляції Пірсона. Функція має повертати значення коефіцієнту кореляції, значення ступеня свободи та результат оцінки значимості зв'зку (significant або not significant).\n",
    "\n",
    "Перед визначенням відмінності за парним критерієм Стьюента необхідно перевірити чи є зв'язок між групами.\n",
    "Для цього використовують коефіцієнт кореляції Пірсона. Його розраховують за формулою:\n",
    "$$ r = \\frac{n\\cdot \\sum(x_i\\cdot y_i) - (\\sum x_i \\cdot \\sum y_i)}{\\sqrt{(n\\cdot \\sum x_i^2 - (\\sum x_i) ^2) \\cdot (n\\cdot \\sum y_i^2 - (\\sum y_i) ^2)}} $$"
   ]
  },
  {
   "cell_type": "code",
   "execution_count": 44,
   "metadata": {},
   "outputs": [
    {
     "name": "stdout",
     "output_type": "stream",
     "text": [
      "100 nearest index in the table\n",
      "0.1946  compare with value\n"
     ]
    },
    {
     "data": {
      "text/plain": [
       "(0.9370567223555161, 98, 'significant')"
      ]
     },
     "execution_count": 44,
     "metadata": {},
     "output_type": "execute_result"
    }
   ],
   "source": [
    "def findR(x, y, n):\n",
    "    chisl = (n * (x*y).sum() - x.sum()*y.sum())\n",
    "    znam = (n*(x**2).sum() - (x.sum())**2) * (n*(y**2).sum() - (y.sum())**2)\n",
    "    return chisl/np.sqrt(znam)\n",
    "\n",
    "def get_coefficients(file_name, index):\n",
    "    coefficients = pd.read_excel(file_name, index=False)\n",
    "    coefficients.set_index(index, inplace=True)\n",
    "    return coefficients\n",
    "\n",
    "def get_coefficient(p_coefficients, df):\n",
    "    if df in p_coefficients.index:\n",
    "        return p_coefficients.loc[df, 0.05]\n",
    "    d = min(p_coefficients.index[:-1], key=lambda x:abs(int(x)-df))\n",
    "    print(d, \"nearest index in the table\")\n",
    "    return p_coefficients.loc[d, 0.05]\n",
    "\n",
    "# x, y - first and second group\n",
    "def pearson(x, y):\n",
    "    n = len(x)\n",
    "    r = pearson_formula(x, y, n)\n",
    "    df = n-2\n",
    "    #get indexes in column \"df\"\n",
    "    p_coefficients = get_coefficients('corelCriteria.xlsx', \"df\")\n",
    "    #search the nearest value between the indexes(1...100) and get the value\n",
    "    cmp_value = get_coefficient(p_coefficients, df)\n",
    "    print(cmp_value, \" compare with value\")\n",
    "    significance = \"significant\" if abs(r) > cmp_value else \"not significant\"\n",
    "    return r, df, significance\n",
    "        \n",
    "pearson(df[\"First test\"], df[\"Second test\"])"
   ]
  },
  {
   "cell_type": "markdown",
   "metadata": {},
   "source": [
    "Написати функцію для визначення відмінності між групами за критерієм Стьюдента. Функція має повертати значення критерію Стьюдента,значення ступеня свободи та результат оцінки значимості зв'зку (significant або not significant)."
   ]
  },
  {
   "cell_type": "code",
   "execution_count": 57,
   "metadata": {},
   "outputs": [
    {
     "name": "stdout",
     "output_type": "stream",
     "text": [
      "100 nearest index in the table\n"
     ]
    },
    {
     "data": {
      "text/plain": [
       "(-26.28595448221786, 99, 'not significant')"
      ]
     },
     "execution_count": 57,
     "metadata": {},
     "output_type": "execute_result"
    }
   ],
   "source": [
    "def equal(v, cmp_value):\n",
    "    if abs(v) > cmp_value:\n",
    "        return \"not significant\"\n",
    "    return \"significant\" \n",
    "\n",
    "def findT(x, y):\n",
    "    d = x - y\n",
    "    \n",
    "    n = len(x)\n",
    "\n",
    "    return n-1,  (d.mean() / d.std()) * np.sqrt(n)\n",
    "    \n",
    "def Student(x, y):\n",
    "    df, t = findT(x, y)\n",
    "    \n",
    "    s_coefficients = get_coefficients('pairedCriteria.xlsx', \"df\")\n",
    "    cm_value = get_coefficient(s_coefficients, df)\n",
    "    \n",
    "    return t, df, equal(t, cm_value)\n",
    "    \n",
    "Student(df[\"First test\"], df[\"Second test\"])"
   ]
  },
  {
   "cell_type": "markdown",
   "metadata": {},
   "source": [
    "<h2>Висновок</h2\n",
    "    \n",
    "1) З порівняння за критерієм Пірсона, можна зробити висновок, що звязок у групах дуже високий(r = 0.937).\n",
    "\n",
    "2) З порівняння за критерієм Стьюдента, можна зробити висновок, що приймається альтернативна гіпотеза про відмінність в середніх значеннях двох груп"
   ]
  }
 ],
 "metadata": {
  "kernelspec": {
   "display_name": "Python 3",
   "language": "python",
   "name": "python3"
  },
  "language_info": {
   "codemirror_mode": {
    "name": "ipython",
    "version": 3
   },
   "file_extension": ".py",
   "mimetype": "text/x-python",
   "name": "python",
   "nbconvert_exporter": "python",
   "pygments_lexer": "ipython3",
   "version": "3.7.4"
  }
 },
 "nbformat": 4,
 "nbformat_minor": 2
}
